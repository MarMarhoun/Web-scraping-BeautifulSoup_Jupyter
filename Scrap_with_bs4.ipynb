{
 "cells": [
  {
   "cell_type": "markdown",
   "id": "f73bc5aa",
   "metadata": {},
   "source": [
    "### Imports the libraries"
   ]
  },
  {
   "cell_type": "code",
   "execution_count": 3,
   "id": "c0cc048e",
   "metadata": {},
   "outputs": [
    {
     "name": "stdout",
     "output_type": "stream",
     "text": [
      "Collecting pandas\n",
      "  Downloading pandas-1.3.5-cp39-cp39-win_amd64.whl (10.2 MB)\n",
      "Requirement already satisfied: python-dateutil>=2.7.3 in c:\\users\\marouane\\appdata\\local\\programs\\python\\python39\\lib\\site-packages (from pandas) (2.8.2)\n",
      "Collecting pytz>=2017.3\n",
      "  Using cached pytz-2021.3-py2.py3-none-any.whl (503 kB)\n",
      "Requirement already satisfied: numpy>=1.17.3 in c:\\users\\marouane\\appdata\\local\\programs\\python\\python39\\lib\\site-packages (from pandas) (1.22.0)\n",
      "Requirement already satisfied: six>=1.5 in c:\\users\\marouane\\appdata\\local\\programs\\python\\python39\\lib\\site-packages (from python-dateutil>=2.7.3->pandas) (1.16.0)\n",
      "Installing collected packages: pytz, pandas\n",
      "Successfully installed pandas-1.3.5 pytz-2021.3\n"
     ]
    }
   ],
   "source": [
    "!pip install pandas "
   ]
  },
  {
   "cell_type": "code",
   "execution_count": 2,
   "id": "eecce911",
   "metadata": {},
   "outputs": [],
   "source": [
    "from bs4 import BeautifulSoup\n",
    "import requests\n",
    "import pandas as pd"
   ]
  },
  {
   "cell_type": "markdown",
   "id": "3feea7c9",
   "metadata": {},
   "source": [
    "## HTTP Request\n",
    "\n",
    "#### Store website in variable"
   ]
  },
  {
   "cell_type": "code",
   "execution_count": 3,
   "id": "7a484681",
   "metadata": {},
   "outputs": [],
   "source": [
    "website = \"https://www.cars.com/shopping/results/?list_price_max=&makes[]=mercedes_benz&maximum_distance=all&maximum_distance_expanded=1&maximum_distance_expanded_from=20&models[]=&stock_type=all&zip=12958\""
   ]
  },
  {
   "cell_type": "markdown",
   "id": "d24354ae",
   "metadata": {},
   "source": [
    "#### Get Request"
   ]
  },
  {
   "cell_type": "code",
   "execution_count": 4,
   "id": "ee40a719",
   "metadata": {},
   "outputs": [],
   "source": [
    "response = requests.get(website)"
   ]
  },
  {
   "cell_type": "markdown",
   "id": "338f9d40",
   "metadata": {},
   "source": [
    "#### Status Code"
   ]
  },
  {
   "cell_type": "code",
   "execution_count": 5,
   "id": "ddb51f5a",
   "metadata": {},
   "outputs": [
    {
     "data": {
      "text/plain": [
       "200"
      ]
     },
     "execution_count": 5,
     "metadata": {},
     "output_type": "execute_result"
    }
   ],
   "source": [
    "response.status_code"
   ]
  },
  {
   "cell_type": "markdown",
   "id": "035f5c45",
   "metadata": {},
   "source": [
    "#### Soup Object"
   ]
  },
  {
   "cell_type": "code",
   "execution_count": 6,
   "id": "d30c356c",
   "metadata": {},
   "outputs": [],
   "source": [
    "soup = BeautifulSoup(response.content, 'html.parser')"
   ]
  },
  {
   "cell_type": "code",
   "execution_count": 61,
   "id": "1313be57",
   "metadata": {},
   "outputs": [],
   "source": [
    "# soup"
   ]
  },
  {
   "cell_type": "markdown",
   "id": "856e9755",
   "metadata": {},
   "source": [
    "#### Results"
   ]
  },
  {
   "cell_type": "code",
   "execution_count": 8,
   "id": "0ccfd208",
   "metadata": {},
   "outputs": [],
   "source": [
    "results = soup.find_all('div', {'class':'vehicle-card'})"
   ]
  },
  {
   "cell_type": "code",
   "execution_count": 9,
   "id": "28e08b76",
   "metadata": {},
   "outputs": [
    {
     "data": {
      "text/plain": [
       "20"
      ]
     },
     "execution_count": 9,
     "metadata": {},
     "output_type": "execute_result"
    }
   ],
   "source": [
    "len(results)"
   ]
  },
  {
   "cell_type": "code",
   "execution_count": 16,
   "id": "0355ded2",
   "metadata": {},
   "outputs": [],
   "source": [
    "#results[0]"
   ]
  },
  {
   "cell_type": "markdown",
   "id": "1401a55f",
   "metadata": {},
   "source": [
    "#### Target necessary data"
   ]
  },
  {
   "cell_type": "code",
   "execution_count": 10,
   "id": "54b40dde",
   "metadata": {},
   "outputs": [],
   "source": [
    "# Name\n",
    "name = results[0].find('h2').get_text()\n",
    "# Mileage\n",
    "mileage = results[0].find('div', {'class':'mileage'}).get_text()\n",
    "# Rating \n",
    "rating = results[0].find('span', {'class':'sds-rating__count'}).get_text()\n",
    "# Rating count\n",
    "rating_count = results[0].find('span', {'class':'sds-rating__link sds-button-link'}).get_text()\n",
    "# Price\n",
    "price = results[0].find('span', {'class':'primary-price'}).get_text()\n",
    "#Dealer name\n",
    "dealer_name= results[0].find('div', {'class':'dealer-name'}).get_text().strip()"
   ]
  },
  {
   "cell_type": "code",
   "execution_count": 11,
   "id": "436497f6",
   "metadata": {},
   "outputs": [
    {
     "data": {
      "text/plain": [
       "'2012 Mercedes-Benz E-Class E 350'"
      ]
     },
     "execution_count": 11,
     "metadata": {},
     "output_type": "execute_result"
    }
   ],
   "source": [
    "name"
   ]
  },
  {
   "cell_type": "code",
   "execution_count": 12,
   "id": "b04df17a",
   "metadata": {},
   "outputs": [
    {
     "data": {
      "text/plain": [
       "'84,277 mi.'"
      ]
     },
     "execution_count": 12,
     "metadata": {},
     "output_type": "execute_result"
    }
   ],
   "source": [
    "mileage"
   ]
  },
  {
   "cell_type": "code",
   "execution_count": 13,
   "id": "f7d8f9f8",
   "metadata": {},
   "outputs": [
    {
     "data": {
      "text/plain": [
       "'4.3'"
      ]
     },
     "execution_count": 13,
     "metadata": {},
     "output_type": "execute_result"
    }
   ],
   "source": [
    "rating"
   ]
  },
  {
   "cell_type": "code",
   "execution_count": 14,
   "id": "d7a4d228",
   "metadata": {},
   "outputs": [
    {
     "data": {
      "text/plain": [
       "'(141 reviews)'"
      ]
     },
     "execution_count": 14,
     "metadata": {},
     "output_type": "execute_result"
    }
   ],
   "source": [
    "rating_count"
   ]
  },
  {
   "cell_type": "code",
   "execution_count": 15,
   "id": "982034a5",
   "metadata": {},
   "outputs": [
    {
     "data": {
      "text/plain": [
       "'$14,499'"
      ]
     },
     "execution_count": 15,
     "metadata": {},
     "output_type": "execute_result"
    }
   ],
   "source": [
    "price"
   ]
  },
  {
   "cell_type": "code",
   "execution_count": 16,
   "id": "c9d9d3e2",
   "metadata": {},
   "outputs": [
    {
     "data": {
      "text/plain": [
       "'Best Price Car Dealer'"
      ]
     },
     "execution_count": 16,
     "metadata": {},
     "output_type": "execute_result"
    }
   ],
   "source": [
    "dealer_name"
   ]
  },
  {
   "cell_type": "markdown",
   "id": "9d13379c",
   "metadata": {},
   "source": [
    "#### Put everything together inside a For-Loop "
   ]
  },
  {
   "cell_type": "code",
   "execution_count": 26,
   "id": "da278c1d",
   "metadata": {},
   "outputs": [],
   "source": [
    "name_lst = []\n",
    "mileage_lst = []\n",
    "rating_lst = []\n",
    "rating_count_lst = []\n",
    "price_lst =[]\n",
    "dealer_name_lst =[]\n",
    "\n",
    "for result in results:\n",
    "    #name\n",
    "    name_lst.append(result.find('h2').get_text())\n",
    "    #Mileage\n",
    "    mileage_lst.append(result.find('div', {'class':'mileage'}).get_text())\n",
    "    # Rating \n",
    "    rating_lst.append(result.find('span', {'class':'sds-rating__count'}).get_text())\n",
    "    # Rating count\n",
    "    try:\n",
    "        rating_count_lst.append(result.find('span', {'class':'sds-rating__link sds-button-link'}).get_text())\n",
    "    except:\n",
    "        rating_count_lst.append('n/a') # it is useful if you don't find any information\n",
    "    # Price\n",
    "    price_lst.append(result.find('span', {'class':'primary-price'}).get_text())\n",
    "    #Dealer name\n",
    "    dealer_name_lst.append(result.find('div', {'class':'dealer-name'}).get_text().strip())"
   ]
  },
  {
   "cell_type": "code",
   "execution_count": 23,
   "id": "d6d29303",
   "metadata": {},
   "outputs": [
    {
     "data": {
      "text/plain": [
       "['2012 Mercedes-Benz E-Class E 350',\n",
       " '2019 Mercedes-Benz C-Class C 300',\n",
       " '2018 Mercedes-Benz AMG C 63 S',\n",
       " '2019 Mercedes-Benz GLS 450 Base 4MATIC',\n",
       " '2020 Mercedes-Benz S-Class S 560 4MATIC',\n",
       " '2014 Mercedes-Benz GLK-Class GLK 350',\n",
       " '2017 Mercedes-Benz AMG SLC 43 Base',\n",
       " '2019 Mercedes-Benz C-Class C 300 4MATIC',\n",
       " '2013 Mercedes-Benz E-Class E 350 4MATIC',\n",
       " '2020 Mercedes-Benz GLE 350 Base 4MATIC',\n",
       " '2017 Mercedes-Benz C-Class C 300',\n",
       " '2018 Mercedes-Benz C-Class C 300 4MATIC',\n",
       " '2018 Mercedes-Benz GLE 350 Base 4MATIC',\n",
       " '2017 Mercedes-Benz GLS 450 Base 4MATIC',\n",
       " '2018 Mercedes-Benz AMG E 63 S 4MATIC',\n",
       " '2013 Mercedes-Benz E-Class E 350 4MATIC',\n",
       " '2014 Mercedes-Benz E-Class E 350',\n",
       " '2017 Mercedes-Benz C-Class C 300',\n",
       " '2015 Mercedes-Benz S-Class S 550 4MATIC',\n",
       " '2008 Mercedes-Benz CLK-Class CLK 350']"
      ]
     },
     "execution_count": 23,
     "metadata": {},
     "output_type": "execute_result"
    }
   ],
   "source": [
    "len(name_lst)\n",
    "name_lst"
   ]
  },
  {
   "cell_type": "code",
   "execution_count": 25,
   "id": "18e3e07d",
   "metadata": {},
   "outputs": [
    {
     "data": {
      "text/plain": [
       "['(141 reviews)',\n",
       " '(147 reviews)',\n",
       " '(2 reviews)',\n",
       " '(129 reviews)',\n",
       " '(376 reviews)',\n",
       " '(159 reviews)',\n",
       " '(337 reviews)',\n",
       " '(76 reviews)',\n",
       " '(1 review)',\n",
       " '(139 reviews)',\n",
       " '(810 reviews)',\n",
       " '(135 reviews)',\n",
       " '(320 reviews)',\n",
       " '(129 reviews)',\n",
       " '(591 reviews)',\n",
       " '(61 reviews)',\n",
       " '(2,197 reviews)',\n",
       " '(10 reviews)',\n",
       " '(2,737 reviews)',\n",
       " '(93 reviews)']"
      ]
     },
     "execution_count": 25,
     "metadata": {},
     "output_type": "execute_result"
    }
   ],
   "source": [
    "rating_count_lst"
   ]
  },
  {
   "cell_type": "markdown",
   "id": "b5a1ed28",
   "metadata": {},
   "source": [
    "### Create Pandas Dataframe"
   ]
  },
  {
   "cell_type": "code",
   "execution_count": 44,
   "id": "0d8eaa93",
   "metadata": {},
   "outputs": [],
   "source": [
    "car_dealer = pd.DataFrame({'Name': name_lst, 'Dealer name': dealer_name_lst, 'Mileage': mileage_lst, 'Rating': rating_lst, 'Rating Count': rating_count_lst, 'Price in $': price_lst})"
   ]
  },
  {
   "cell_type": "code",
   "execution_count": 45,
   "id": "c3516d80",
   "metadata": {},
   "outputs": [
    {
     "data": {
      "text/html": [
       "<div>\n",
       "<style scoped>\n",
       "    .dataframe tbody tr th:only-of-type {\n",
       "        vertical-align: middle;\n",
       "    }\n",
       "\n",
       "    .dataframe tbody tr th {\n",
       "        vertical-align: top;\n",
       "    }\n",
       "\n",
       "    .dataframe thead th {\n",
       "        text-align: right;\n",
       "    }\n",
       "</style>\n",
       "<table border=\"1\" class=\"dataframe\">\n",
       "  <thead>\n",
       "    <tr style=\"text-align: right;\">\n",
       "      <th></th>\n",
       "      <th>Name</th>\n",
       "      <th>Dealer name</th>\n",
       "      <th>Mileage</th>\n",
       "      <th>Rating</th>\n",
       "      <th>Rating Count</th>\n",
       "      <th>Price in $</th>\n",
       "    </tr>\n",
       "  </thead>\n",
       "  <tbody>\n",
       "    <tr>\n",
       "      <th>0</th>\n",
       "      <td>2012 Mercedes-Benz E-Class E 350</td>\n",
       "      <td>Best Price Car Dealer</td>\n",
       "      <td>84,277 mi.</td>\n",
       "      <td>4.3</td>\n",
       "      <td>(141 reviews)</td>\n",
       "      <td>$14,499</td>\n",
       "    </tr>\n",
       "    <tr>\n",
       "      <th>1</th>\n",
       "      <td>2019 Mercedes-Benz C-Class C 300</td>\n",
       "      <td>Koons Kia Owings Mills</td>\n",
       "      <td>23,817 mi.</td>\n",
       "      <td>4.6</td>\n",
       "      <td>(147 reviews)</td>\n",
       "      <td>$43,499</td>\n",
       "    </tr>\n",
       "    <tr>\n",
       "      <th>2</th>\n",
       "      <td>2018 Mercedes-Benz AMG C 63 S</td>\n",
       "      <td>Lawrence Motorsport</td>\n",
       "      <td>12,285 mi.</td>\n",
       "      <td>5.0</td>\n",
       "      <td>(2 reviews)</td>\n",
       "      <td>$71,991</td>\n",
       "    </tr>\n",
       "    <tr>\n",
       "      <th>3</th>\n",
       "      <td>2019 Mercedes-Benz GLS 450 Base 4MATIC</td>\n",
       "      <td>Shift San Francisco</td>\n",
       "      <td>17,523 mi.</td>\n",
       "      <td>3.7</td>\n",
       "      <td>(129 reviews)</td>\n",
       "      <td>$61,950</td>\n",
       "    </tr>\n",
       "    <tr>\n",
       "      <th>4</th>\n",
       "      <td>2020 Mercedes-Benz S-Class S 560 4MATIC</td>\n",
       "      <td>Mercedes-Benz of Catonsville</td>\n",
       "      <td>14,254 mi.</td>\n",
       "      <td>4.1</td>\n",
       "      <td>(376 reviews)</td>\n",
       "      <td>$113,168</td>\n",
       "    </tr>\n",
       "    <tr>\n",
       "      <th>5</th>\n",
       "      <td>2014 Mercedes-Benz GLK-Class GLK 350</td>\n",
       "      <td>AutoNation USA Katy</td>\n",
       "      <td>47,868 mi.</td>\n",
       "      <td>4.3</td>\n",
       "      <td>(159 reviews)</td>\n",
       "      <td>$23,883</td>\n",
       "    </tr>\n",
       "    <tr>\n",
       "      <th>6</th>\n",
       "      <td>2017 Mercedes-Benz AMG SLC 43 Base</td>\n",
       "      <td>Mercedes-Benz of Clearwater</td>\n",
       "      <td>21,960 mi.</td>\n",
       "      <td>4.5</td>\n",
       "      <td>(337 reviews)</td>\n",
       "      <td>$50,934</td>\n",
       "    </tr>\n",
       "    <tr>\n",
       "      <th>7</th>\n",
       "      <td>2019 Mercedes-Benz C-Class C 300 4MATIC</td>\n",
       "      <td>Mercedes-Benz of Asheville</td>\n",
       "      <td>27,315 mi.</td>\n",
       "      <td>4.1</td>\n",
       "      <td>(76 reviews)</td>\n",
       "      <td>$58,675</td>\n",
       "    </tr>\n",
       "    <tr>\n",
       "      <th>8</th>\n",
       "      <td>2013 Mercedes-Benz E-Class E 350 4MATIC</td>\n",
       "      <td>Drive Park Avenue - Atlantic City</td>\n",
       "      <td>73,075 mi.</td>\n",
       "      <td>1.3</td>\n",
       "      <td>(1 review)</td>\n",
       "      <td>$18,495</td>\n",
       "    </tr>\n",
       "    <tr>\n",
       "      <th>9</th>\n",
       "      <td>2020 Mercedes-Benz GLE 350 Base 4MATIC</td>\n",
       "      <td>Ultimo Motors East</td>\n",
       "      <td>18,130 mi.</td>\n",
       "      <td>4.3</td>\n",
       "      <td>(139 reviews)</td>\n",
       "      <td>$73,900</td>\n",
       "    </tr>\n",
       "    <tr>\n",
       "      <th>10</th>\n",
       "      <td>2017 Mercedes-Benz C-Class C 300</td>\n",
       "      <td>AutoNation Acura Stevens Creek</td>\n",
       "      <td>45,213 mi.</td>\n",
       "      <td>4.7</td>\n",
       "      <td>(810 reviews)</td>\n",
       "      <td>$42,381</td>\n",
       "    </tr>\n",
       "    <tr>\n",
       "      <th>11</th>\n",
       "      <td>2018 Mercedes-Benz C-Class C 300 4MATIC</td>\n",
       "      <td>Auto Buying Service</td>\n",
       "      <td>25,679 mi.</td>\n",
       "      <td>4.8</td>\n",
       "      <td>(135 reviews)</td>\n",
       "      <td>$26,444</td>\n",
       "    </tr>\n",
       "    <tr>\n",
       "      <th>12</th>\n",
       "      <td>2018 Mercedes-Benz GLE 350 Base 4MATIC</td>\n",
       "      <td>Mercedes-Benz of Fort Mitchell</td>\n",
       "      <td>47,667 mi.</td>\n",
       "      <td>4.9</td>\n",
       "      <td>(320 reviews)</td>\n",
       "      <td>$42,780</td>\n",
       "    </tr>\n",
       "    <tr>\n",
       "      <th>13</th>\n",
       "      <td>2017 Mercedes-Benz GLS 450 Base 4MATIC</td>\n",
       "      <td>Shift San Francisco</td>\n",
       "      <td>37,336 mi.</td>\n",
       "      <td>3.7</td>\n",
       "      <td>(129 reviews)</td>\n",
       "      <td>$48,450</td>\n",
       "    </tr>\n",
       "    <tr>\n",
       "      <th>14</th>\n",
       "      <td>2018 Mercedes-Benz AMG E 63 S 4MATIC</td>\n",
       "      <td>Mercedes-Benz of Pompano</td>\n",
       "      <td>14,128 mi.</td>\n",
       "      <td>4.5</td>\n",
       "      <td>(591 reviews)</td>\n",
       "      <td>$105,889</td>\n",
       "    </tr>\n",
       "    <tr>\n",
       "      <th>15</th>\n",
       "      <td>2013 Mercedes-Benz E-Class E 350 4MATIC</td>\n",
       "      <td>Eden Autos</td>\n",
       "      <td>75,214 mi.</td>\n",
       "      <td>4.4</td>\n",
       "      <td>(61 reviews)</td>\n",
       "      <td>$19,900</td>\n",
       "    </tr>\n",
       "    <tr>\n",
       "      <th>16</th>\n",
       "      <td>2014 Mercedes-Benz E-Class E 350</td>\n",
       "      <td>HGreg.com Doral</td>\n",
       "      <td>71,828 mi.</td>\n",
       "      <td>4.4</td>\n",
       "      <td>(2,197 reviews)</td>\n",
       "      <td>$20,497</td>\n",
       "    </tr>\n",
       "    <tr>\n",
       "      <th>17</th>\n",
       "      <td>2017 Mercedes-Benz C-Class C 300</td>\n",
       "      <td>North State Auto</td>\n",
       "      <td>57,389 mi.</td>\n",
       "      <td>3.9</td>\n",
       "      <td>(10 reviews)</td>\n",
       "      <td>$34,500</td>\n",
       "    </tr>\n",
       "    <tr>\n",
       "      <th>18</th>\n",
       "      <td>2015 Mercedes-Benz S-Class S 550 4MATIC</td>\n",
       "      <td>21 Century Auto Group</td>\n",
       "      <td>52,873 mi.</td>\n",
       "      <td>4.4</td>\n",
       "      <td>(2,737 reviews)</td>\n",
       "      <td>$37,821</td>\n",
       "    </tr>\n",
       "    <tr>\n",
       "      <th>19</th>\n",
       "      <td>2008 Mercedes-Benz CLK-Class CLK 350</td>\n",
       "      <td>Global Auto Outlet</td>\n",
       "      <td>103,882 mi.</td>\n",
       "      <td>3.2</td>\n",
       "      <td>(93 reviews)</td>\n",
       "      <td>$8,596</td>\n",
       "    </tr>\n",
       "  </tbody>\n",
       "</table>\n",
       "</div>"
      ],
      "text/plain": [
       "                                       Name  \\\n",
       "0          2012 Mercedes-Benz E-Class E 350   \n",
       "1          2019 Mercedes-Benz C-Class C 300   \n",
       "2             2018 Mercedes-Benz AMG C 63 S   \n",
       "3    2019 Mercedes-Benz GLS 450 Base 4MATIC   \n",
       "4   2020 Mercedes-Benz S-Class S 560 4MATIC   \n",
       "5      2014 Mercedes-Benz GLK-Class GLK 350   \n",
       "6        2017 Mercedes-Benz AMG SLC 43 Base   \n",
       "7   2019 Mercedes-Benz C-Class C 300 4MATIC   \n",
       "8   2013 Mercedes-Benz E-Class E 350 4MATIC   \n",
       "9    2020 Mercedes-Benz GLE 350 Base 4MATIC   \n",
       "10         2017 Mercedes-Benz C-Class C 300   \n",
       "11  2018 Mercedes-Benz C-Class C 300 4MATIC   \n",
       "12   2018 Mercedes-Benz GLE 350 Base 4MATIC   \n",
       "13   2017 Mercedes-Benz GLS 450 Base 4MATIC   \n",
       "14     2018 Mercedes-Benz AMG E 63 S 4MATIC   \n",
       "15  2013 Mercedes-Benz E-Class E 350 4MATIC   \n",
       "16         2014 Mercedes-Benz E-Class E 350   \n",
       "17         2017 Mercedes-Benz C-Class C 300   \n",
       "18  2015 Mercedes-Benz S-Class S 550 4MATIC   \n",
       "19     2008 Mercedes-Benz CLK-Class CLK 350   \n",
       "\n",
       "                          Dealer name      Mileage Rating     Rating Count  \\\n",
       "0               Best Price Car Dealer   84,277 mi.    4.3    (141 reviews)   \n",
       "1              Koons Kia Owings Mills   23,817 mi.    4.6    (147 reviews)   \n",
       "2                 Lawrence Motorsport   12,285 mi.    5.0      (2 reviews)   \n",
       "3                 Shift San Francisco   17,523 mi.    3.7    (129 reviews)   \n",
       "4        Mercedes-Benz of Catonsville   14,254 mi.    4.1    (376 reviews)   \n",
       "5                 AutoNation USA Katy   47,868 mi.    4.3    (159 reviews)   \n",
       "6         Mercedes-Benz of Clearwater   21,960 mi.    4.5    (337 reviews)   \n",
       "7          Mercedes-Benz of Asheville   27,315 mi.    4.1     (76 reviews)   \n",
       "8   Drive Park Avenue - Atlantic City   73,075 mi.    1.3       (1 review)   \n",
       "9                  Ultimo Motors East   18,130 mi.    4.3    (139 reviews)   \n",
       "10     AutoNation Acura Stevens Creek   45,213 mi.    4.7    (810 reviews)   \n",
       "11                Auto Buying Service   25,679 mi.    4.8    (135 reviews)   \n",
       "12     Mercedes-Benz of Fort Mitchell   47,667 mi.    4.9    (320 reviews)   \n",
       "13                Shift San Francisco   37,336 mi.    3.7    (129 reviews)   \n",
       "14           Mercedes-Benz of Pompano   14,128 mi.    4.5    (591 reviews)   \n",
       "15                         Eden Autos   75,214 mi.    4.4     (61 reviews)   \n",
       "16                    HGreg.com Doral   71,828 mi.    4.4  (2,197 reviews)   \n",
       "17                   North State Auto   57,389 mi.    3.9     (10 reviews)   \n",
       "18              21 Century Auto Group   52,873 mi.    4.4  (2,737 reviews)   \n",
       "19                 Global Auto Outlet  103,882 mi.    3.2     (93 reviews)   \n",
       "\n",
       "   Price in $  \n",
       "0     $14,499  \n",
       "1     $43,499  \n",
       "2     $71,991  \n",
       "3     $61,950  \n",
       "4    $113,168  \n",
       "5     $23,883  \n",
       "6     $50,934  \n",
       "7     $58,675  \n",
       "8     $18,495  \n",
       "9     $73,900  \n",
       "10    $42,381  \n",
       "11    $26,444  \n",
       "12    $42,780  \n",
       "13    $48,450  \n",
       "14   $105,889  \n",
       "15    $19,900  \n",
       "16    $20,497  \n",
       "17    $34,500  \n",
       "18    $37,821  \n",
       "19     $8,596  "
      ]
     },
     "execution_count": 45,
     "metadata": {},
     "output_type": "execute_result"
    }
   ],
   "source": [
    "car_dealer"
   ]
  },
  {
   "cell_type": "markdown",
   "id": "1559aa36",
   "metadata": {},
   "source": [
    "#### Data Cleaning"
   ]
  },
  {
   "cell_type": "code",
   "execution_count": 46,
   "id": "42b64574",
   "metadata": {},
   "outputs": [],
   "source": [
    "car_dealer['Rating Count'] = car_dealer['Rating Count'].apply(lambda x:x.strip('reviews)').strip('('))"
   ]
  },
  {
   "cell_type": "code",
   "execution_count": 47,
   "id": "2da46c62",
   "metadata": {},
   "outputs": [],
   "source": [
    "car_dealer['Price in $'] = car_dealer['Price in $'].apply(lambda x:x.strip('$'))"
   ]
  },
  {
   "cell_type": "code",
   "execution_count": 48,
   "id": "fdef2313",
   "metadata": {},
   "outputs": [
    {
     "data": {
      "text/html": [
       "<div>\n",
       "<style scoped>\n",
       "    .dataframe tbody tr th:only-of-type {\n",
       "        vertical-align: middle;\n",
       "    }\n",
       "\n",
       "    .dataframe tbody tr th {\n",
       "        vertical-align: top;\n",
       "    }\n",
       "\n",
       "    .dataframe thead th {\n",
       "        text-align: right;\n",
       "    }\n",
       "</style>\n",
       "<table border=\"1\" class=\"dataframe\">\n",
       "  <thead>\n",
       "    <tr style=\"text-align: right;\">\n",
       "      <th></th>\n",
       "      <th>Name</th>\n",
       "      <th>Dealer name</th>\n",
       "      <th>Mileage</th>\n",
       "      <th>Rating</th>\n",
       "      <th>Rating Count</th>\n",
       "      <th>Price in $</th>\n",
       "    </tr>\n",
       "  </thead>\n",
       "  <tbody>\n",
       "    <tr>\n",
       "      <th>0</th>\n",
       "      <td>2012 Mercedes-Benz E-Class E 350</td>\n",
       "      <td>Best Price Car Dealer</td>\n",
       "      <td>84,277 mi.</td>\n",
       "      <td>4.3</td>\n",
       "      <td>141</td>\n",
       "      <td>14,499</td>\n",
       "    </tr>\n",
       "    <tr>\n",
       "      <th>1</th>\n",
       "      <td>2019 Mercedes-Benz C-Class C 300</td>\n",
       "      <td>Koons Kia Owings Mills</td>\n",
       "      <td>23,817 mi.</td>\n",
       "      <td>4.6</td>\n",
       "      <td>147</td>\n",
       "      <td>43,499</td>\n",
       "    </tr>\n",
       "    <tr>\n",
       "      <th>2</th>\n",
       "      <td>2018 Mercedes-Benz AMG C 63 S</td>\n",
       "      <td>Lawrence Motorsport</td>\n",
       "      <td>12,285 mi.</td>\n",
       "      <td>5.0</td>\n",
       "      <td>2</td>\n",
       "      <td>71,991</td>\n",
       "    </tr>\n",
       "    <tr>\n",
       "      <th>3</th>\n",
       "      <td>2019 Mercedes-Benz GLS 450 Base 4MATIC</td>\n",
       "      <td>Shift San Francisco</td>\n",
       "      <td>17,523 mi.</td>\n",
       "      <td>3.7</td>\n",
       "      <td>129</td>\n",
       "      <td>61,950</td>\n",
       "    </tr>\n",
       "    <tr>\n",
       "      <th>4</th>\n",
       "      <td>2020 Mercedes-Benz S-Class S 560 4MATIC</td>\n",
       "      <td>Mercedes-Benz of Catonsville</td>\n",
       "      <td>14,254 mi.</td>\n",
       "      <td>4.1</td>\n",
       "      <td>376</td>\n",
       "      <td>113,168</td>\n",
       "    </tr>\n",
       "    <tr>\n",
       "      <th>5</th>\n",
       "      <td>2014 Mercedes-Benz GLK-Class GLK 350</td>\n",
       "      <td>AutoNation USA Katy</td>\n",
       "      <td>47,868 mi.</td>\n",
       "      <td>4.3</td>\n",
       "      <td>159</td>\n",
       "      <td>23,883</td>\n",
       "    </tr>\n",
       "    <tr>\n",
       "      <th>6</th>\n",
       "      <td>2017 Mercedes-Benz AMG SLC 43 Base</td>\n",
       "      <td>Mercedes-Benz of Clearwater</td>\n",
       "      <td>21,960 mi.</td>\n",
       "      <td>4.5</td>\n",
       "      <td>337</td>\n",
       "      <td>50,934</td>\n",
       "    </tr>\n",
       "    <tr>\n",
       "      <th>7</th>\n",
       "      <td>2019 Mercedes-Benz C-Class C 300 4MATIC</td>\n",
       "      <td>Mercedes-Benz of Asheville</td>\n",
       "      <td>27,315 mi.</td>\n",
       "      <td>4.1</td>\n",
       "      <td>76</td>\n",
       "      <td>58,675</td>\n",
       "    </tr>\n",
       "    <tr>\n",
       "      <th>8</th>\n",
       "      <td>2013 Mercedes-Benz E-Class E 350 4MATIC</td>\n",
       "      <td>Drive Park Avenue - Atlantic City</td>\n",
       "      <td>73,075 mi.</td>\n",
       "      <td>1.3</td>\n",
       "      <td>1</td>\n",
       "      <td>18,495</td>\n",
       "    </tr>\n",
       "    <tr>\n",
       "      <th>9</th>\n",
       "      <td>2020 Mercedes-Benz GLE 350 Base 4MATIC</td>\n",
       "      <td>Ultimo Motors East</td>\n",
       "      <td>18,130 mi.</td>\n",
       "      <td>4.3</td>\n",
       "      <td>139</td>\n",
       "      <td>73,900</td>\n",
       "    </tr>\n",
       "    <tr>\n",
       "      <th>10</th>\n",
       "      <td>2017 Mercedes-Benz C-Class C 300</td>\n",
       "      <td>AutoNation Acura Stevens Creek</td>\n",
       "      <td>45,213 mi.</td>\n",
       "      <td>4.7</td>\n",
       "      <td>810</td>\n",
       "      <td>42,381</td>\n",
       "    </tr>\n",
       "    <tr>\n",
       "      <th>11</th>\n",
       "      <td>2018 Mercedes-Benz C-Class C 300 4MATIC</td>\n",
       "      <td>Auto Buying Service</td>\n",
       "      <td>25,679 mi.</td>\n",
       "      <td>4.8</td>\n",
       "      <td>135</td>\n",
       "      <td>26,444</td>\n",
       "    </tr>\n",
       "    <tr>\n",
       "      <th>12</th>\n",
       "      <td>2018 Mercedes-Benz GLE 350 Base 4MATIC</td>\n",
       "      <td>Mercedes-Benz of Fort Mitchell</td>\n",
       "      <td>47,667 mi.</td>\n",
       "      <td>4.9</td>\n",
       "      <td>320</td>\n",
       "      <td>42,780</td>\n",
       "    </tr>\n",
       "    <tr>\n",
       "      <th>13</th>\n",
       "      <td>2017 Mercedes-Benz GLS 450 Base 4MATIC</td>\n",
       "      <td>Shift San Francisco</td>\n",
       "      <td>37,336 mi.</td>\n",
       "      <td>3.7</td>\n",
       "      <td>129</td>\n",
       "      <td>48,450</td>\n",
       "    </tr>\n",
       "    <tr>\n",
       "      <th>14</th>\n",
       "      <td>2018 Mercedes-Benz AMG E 63 S 4MATIC</td>\n",
       "      <td>Mercedes-Benz of Pompano</td>\n",
       "      <td>14,128 mi.</td>\n",
       "      <td>4.5</td>\n",
       "      <td>591</td>\n",
       "      <td>105,889</td>\n",
       "    </tr>\n",
       "    <tr>\n",
       "      <th>15</th>\n",
       "      <td>2013 Mercedes-Benz E-Class E 350 4MATIC</td>\n",
       "      <td>Eden Autos</td>\n",
       "      <td>75,214 mi.</td>\n",
       "      <td>4.4</td>\n",
       "      <td>61</td>\n",
       "      <td>19,900</td>\n",
       "    </tr>\n",
       "    <tr>\n",
       "      <th>16</th>\n",
       "      <td>2014 Mercedes-Benz E-Class E 350</td>\n",
       "      <td>HGreg.com Doral</td>\n",
       "      <td>71,828 mi.</td>\n",
       "      <td>4.4</td>\n",
       "      <td>2,197</td>\n",
       "      <td>20,497</td>\n",
       "    </tr>\n",
       "    <tr>\n",
       "      <th>17</th>\n",
       "      <td>2017 Mercedes-Benz C-Class C 300</td>\n",
       "      <td>North State Auto</td>\n",
       "      <td>57,389 mi.</td>\n",
       "      <td>3.9</td>\n",
       "      <td>10</td>\n",
       "      <td>34,500</td>\n",
       "    </tr>\n",
       "    <tr>\n",
       "      <th>18</th>\n",
       "      <td>2015 Mercedes-Benz S-Class S 550 4MATIC</td>\n",
       "      <td>21 Century Auto Group</td>\n",
       "      <td>52,873 mi.</td>\n",
       "      <td>4.4</td>\n",
       "      <td>2,737</td>\n",
       "      <td>37,821</td>\n",
       "    </tr>\n",
       "    <tr>\n",
       "      <th>19</th>\n",
       "      <td>2008 Mercedes-Benz CLK-Class CLK 350</td>\n",
       "      <td>Global Auto Outlet</td>\n",
       "      <td>103,882 mi.</td>\n",
       "      <td>3.2</td>\n",
       "      <td>93</td>\n",
       "      <td>8,596</td>\n",
       "    </tr>\n",
       "  </tbody>\n",
       "</table>\n",
       "</div>"
      ],
      "text/plain": [
       "                                       Name  \\\n",
       "0          2012 Mercedes-Benz E-Class E 350   \n",
       "1          2019 Mercedes-Benz C-Class C 300   \n",
       "2             2018 Mercedes-Benz AMG C 63 S   \n",
       "3    2019 Mercedes-Benz GLS 450 Base 4MATIC   \n",
       "4   2020 Mercedes-Benz S-Class S 560 4MATIC   \n",
       "5      2014 Mercedes-Benz GLK-Class GLK 350   \n",
       "6        2017 Mercedes-Benz AMG SLC 43 Base   \n",
       "7   2019 Mercedes-Benz C-Class C 300 4MATIC   \n",
       "8   2013 Mercedes-Benz E-Class E 350 4MATIC   \n",
       "9    2020 Mercedes-Benz GLE 350 Base 4MATIC   \n",
       "10         2017 Mercedes-Benz C-Class C 300   \n",
       "11  2018 Mercedes-Benz C-Class C 300 4MATIC   \n",
       "12   2018 Mercedes-Benz GLE 350 Base 4MATIC   \n",
       "13   2017 Mercedes-Benz GLS 450 Base 4MATIC   \n",
       "14     2018 Mercedes-Benz AMG E 63 S 4MATIC   \n",
       "15  2013 Mercedes-Benz E-Class E 350 4MATIC   \n",
       "16         2014 Mercedes-Benz E-Class E 350   \n",
       "17         2017 Mercedes-Benz C-Class C 300   \n",
       "18  2015 Mercedes-Benz S-Class S 550 4MATIC   \n",
       "19     2008 Mercedes-Benz CLK-Class CLK 350   \n",
       "\n",
       "                          Dealer name      Mileage Rating Rating Count  \\\n",
       "0               Best Price Car Dealer   84,277 mi.    4.3         141    \n",
       "1              Koons Kia Owings Mills   23,817 mi.    4.6         147    \n",
       "2                 Lawrence Motorsport   12,285 mi.    5.0           2    \n",
       "3                 Shift San Francisco   17,523 mi.    3.7         129    \n",
       "4        Mercedes-Benz of Catonsville   14,254 mi.    4.1         376    \n",
       "5                 AutoNation USA Katy   47,868 mi.    4.3         159    \n",
       "6         Mercedes-Benz of Clearwater   21,960 mi.    4.5         337    \n",
       "7          Mercedes-Benz of Asheville   27,315 mi.    4.1          76    \n",
       "8   Drive Park Avenue - Atlantic City   73,075 mi.    1.3           1    \n",
       "9                  Ultimo Motors East   18,130 mi.    4.3         139    \n",
       "10     AutoNation Acura Stevens Creek   45,213 mi.    4.7         810    \n",
       "11                Auto Buying Service   25,679 mi.    4.8         135    \n",
       "12     Mercedes-Benz of Fort Mitchell   47,667 mi.    4.9         320    \n",
       "13                Shift San Francisco   37,336 mi.    3.7         129    \n",
       "14           Mercedes-Benz of Pompano   14,128 mi.    4.5         591    \n",
       "15                         Eden Autos   75,214 mi.    4.4          61    \n",
       "16                    HGreg.com Doral   71,828 mi.    4.4       2,197    \n",
       "17                   North State Auto   57,389 mi.    3.9          10    \n",
       "18              21 Century Auto Group   52,873 mi.    4.4       2,737    \n",
       "19                 Global Auto Outlet  103,882 mi.    3.2          93    \n",
       "\n",
       "   Price in $  \n",
       "0      14,499  \n",
       "1      43,499  \n",
       "2      71,991  \n",
       "3      61,950  \n",
       "4     113,168  \n",
       "5      23,883  \n",
       "6      50,934  \n",
       "7      58,675  \n",
       "8      18,495  \n",
       "9      73,900  \n",
       "10     42,381  \n",
       "11     26,444  \n",
       "12     42,780  \n",
       "13     48,450  \n",
       "14    105,889  \n",
       "15     19,900  \n",
       "16     20,497  \n",
       "17     34,500  \n",
       "18     37,821  \n",
       "19      8,596  "
      ]
     },
     "execution_count": 48,
     "metadata": {},
     "output_type": "execute_result"
    }
   ],
   "source": [
    "car_dealer"
   ]
  },
  {
   "cell_type": "markdown",
   "id": "c0485133",
   "metadata": {},
   "source": [
    "### Output in Excel"
   ]
  },
  {
   "cell_type": "code",
   "execution_count": 52,
   "id": "3f65c599",
   "metadata": {},
   "outputs": [],
   "source": [
    "car_dealer.to_csv('single_page_car.csv', index=False)"
   ]
  },
  {
   "cell_type": "markdown",
   "id": "52205848",
   "metadata": {},
   "source": [
    "   "
   ]
  },
  {
   "cell_type": "markdown",
   "id": "a391544f",
   "metadata": {},
   "source": [
    "### Part-2 : Scrape data from multiple pages"
   ]
  },
  {
   "cell_type": "code",
   "execution_count": 53,
   "id": "99aefb55",
   "metadata": {},
   "outputs": [],
   "source": [
    "name_lst_m = []\n",
    "mileage_lst_m = []\n",
    "rating_lst_m = []\n",
    "rating_count_lst_m = []\n",
    "price_lst_m =[]\n",
    "dealer_name_lst_m =[]\n",
    "\n",
    "for i in range(1,21): # I used just 20 pages. However, there are other pages\n",
    "    \n",
    "    #website in a variable\n",
    "    website = 'https://www.cars.com/shopping/results/?page=' + str(i) + '&page_size=20&list_price_max=&makes[]=mercedes_benz&maximum_distance=all&maximum_distance_expanded=1&maximum_distance_expanded_from=20&models[]=&stock_type=all&zip=12958'\n",
    "    \n",
    "    #Request to website\n",
    "    response = requests.get(website)\n",
    "    \n",
    "    # Soup Object\n",
    "    soup = BeautifulSoup(response.content, 'html.parser')\n",
    "    \n",
    "    # Results \n",
    "    results = soup.find_all('div', {'class':'vehicle-card'})\n",
    "    \n",
    "    for result in results:\n",
    "        #name\n",
    "        try:\n",
    "            name_lst_m.append(result.find('h2').get_text())\n",
    "        except:\n",
    "            name_lst_m.append('n/a')\n",
    "            \n",
    "            \n",
    "        #Mileage\n",
    "        try:\n",
    "            mileage_lst_m.append(result.find('div', {'class':'mileage'}).get_text())\n",
    "        except:\n",
    "            mileage_lst_m.append('n/a') # it is useful if you don't find any information\n",
    "            \n",
    "            \n",
    "        # Rating \n",
    "        try:\n",
    "            rating_lst_m.append(result.find('span', {'class':'sds-rating__count'}).get_text())\n",
    "        except:\n",
    "            rating_lst_m.append('n/a')\n",
    "            \n",
    "            \n",
    "        # Rating count\n",
    "        try:\n",
    "            rating_count_lst_m.append(result.find('span', {'class':'sds-rating__link sds-button-link'}).get_text())\n",
    "        except:\n",
    "            rating_count_lst_m.append('n/a') \n",
    "            \n",
    "            \n",
    "        # Price\n",
    "        try:\n",
    "            price_lst_m.append(result.find('span', {'class':'primary-price'}).get_text())\n",
    "        except:\n",
    "            price_lst_m.append('n/a')\n",
    "            \n",
    "            \n",
    "        #Dealer name\n",
    "        try:\n",
    "            dealer_name_lst_m.append(result.find('div', {'class':'dealer-name'}).get_text().strip())\n",
    "        except:\n",
    "            dealer_name_lst_m.append('n/a')"
   ]
  },
  {
   "cell_type": "code",
   "execution_count": 58,
   "id": "0767283d",
   "metadata": {},
   "outputs": [],
   "source": [
    "# Create DataFrame\n",
    "car_dealer_m = pd.DataFrame({'Name': name_lst_m, 'Dealer name': dealer_name_lst_m, 'Mileage': mileage_lst_m, 'Rating': rating_lst_m, 'Rating Count': rating_count_lst_m, 'Price in $': price_lst_m})\n",
    "\n",
    "# Clean the data\n",
    "car_dealer_m['Rating Count'] = car_dealer_m['Rating Count'].apply(lambda x:x.strip('reviews)').strip('('))\n",
    "car_dealer_m['Price in $'] = car_dealer_m['Price in $'].apply(lambda x:x.strip('$'))"
   ]
  },
  {
   "cell_type": "code",
   "execution_count": 59,
   "id": "848b2552",
   "metadata": {},
   "outputs": [
    {
     "data": {
      "text/html": [
       "<div>\n",
       "<style scoped>\n",
       "    .dataframe tbody tr th:only-of-type {\n",
       "        vertical-align: middle;\n",
       "    }\n",
       "\n",
       "    .dataframe tbody tr th {\n",
       "        vertical-align: top;\n",
       "    }\n",
       "\n",
       "    .dataframe thead th {\n",
       "        text-align: right;\n",
       "    }\n",
       "</style>\n",
       "<table border=\"1\" class=\"dataframe\">\n",
       "  <thead>\n",
       "    <tr style=\"text-align: right;\">\n",
       "      <th></th>\n",
       "      <th>Name</th>\n",
       "      <th>Dealer name</th>\n",
       "      <th>Mileage</th>\n",
       "      <th>Rating</th>\n",
       "      <th>Rating Count</th>\n",
       "      <th>Price in $</th>\n",
       "    </tr>\n",
       "  </thead>\n",
       "  <tbody>\n",
       "    <tr>\n",
       "      <th>0</th>\n",
       "      <td>2012 Mercedes-Benz E-Class E 350</td>\n",
       "      <td>Best Price Car Dealer</td>\n",
       "      <td>84,277 mi.</td>\n",
       "      <td>4.3</td>\n",
       "      <td>141</td>\n",
       "      <td>14,499</td>\n",
       "    </tr>\n",
       "    <tr>\n",
       "      <th>1</th>\n",
       "      <td>2019 Mercedes-Benz C-Class C 300</td>\n",
       "      <td>Koons Kia Owings Mills</td>\n",
       "      <td>23,817 mi.</td>\n",
       "      <td>4.6</td>\n",
       "      <td>147</td>\n",
       "      <td>43,499</td>\n",
       "    </tr>\n",
       "    <tr>\n",
       "      <th>2</th>\n",
       "      <td>2018 Mercedes-Benz AMG C 63 S</td>\n",
       "      <td>Lawrence Motorsport</td>\n",
       "      <td>12,285 mi.</td>\n",
       "      <td>5.0</td>\n",
       "      <td>2</td>\n",
       "      <td>71,991</td>\n",
       "    </tr>\n",
       "    <tr>\n",
       "      <th>3</th>\n",
       "      <td>2019 Mercedes-Benz GLS 450 Base 4MATIC</td>\n",
       "      <td>Shift San Francisco</td>\n",
       "      <td>17,523 mi.</td>\n",
       "      <td>3.7</td>\n",
       "      <td>129</td>\n",
       "      <td>61,950</td>\n",
       "    </tr>\n",
       "    <tr>\n",
       "      <th>4</th>\n",
       "      <td>2020 Mercedes-Benz S-Class S 560 4MATIC</td>\n",
       "      <td>Mercedes-Benz of Catonsville</td>\n",
       "      <td>14,254 mi.</td>\n",
       "      <td>4.1</td>\n",
       "      <td>376</td>\n",
       "      <td>113,168</td>\n",
       "    </tr>\n",
       "    <tr>\n",
       "      <th>...</th>\n",
       "      <td>...</td>\n",
       "      <td>...</td>\n",
       "      <td>...</td>\n",
       "      <td>...</td>\n",
       "      <td>...</td>\n",
       "      <td>...</td>\n",
       "    </tr>\n",
       "    <tr>\n",
       "      <th>391</th>\n",
       "      <td>2020 Mercedes-Benz GLA 250 Base</td>\n",
       "      <td>AutoNation Chevrolet Doral</td>\n",
       "      <td>12,311 mi.</td>\n",
       "      <td>4.6</td>\n",
       "      <td>421</td>\n",
       "      <td>36,992</td>\n",
       "    </tr>\n",
       "    <tr>\n",
       "      <th>392</th>\n",
       "      <td>2018 Mercedes-Benz C-Class C 300</td>\n",
       "      <td>Nissan of Mission Hills</td>\n",
       "      <td>36,247 mi.</td>\n",
       "      <td>3.3</td>\n",
       "      <td>27</td>\n",
       "      <td>34,121</td>\n",
       "    </tr>\n",
       "    <tr>\n",
       "      <th>393</th>\n",
       "      <td>2014 Mercedes-Benz M-Class ML 350</td>\n",
       "      <td>Mercedes-Benz of Fort Lauderdale</td>\n",
       "      <td>83,927 mi.</td>\n",
       "      <td>4.6</td>\n",
       "      <td>869</td>\n",
       "      <td>21,992</td>\n",
       "    </tr>\n",
       "    <tr>\n",
       "      <th>394</th>\n",
       "      <td>2020 Mercedes-Benz GLC 300 Base 4MATIC</td>\n",
       "      <td>Loehmann-Blasius Chevrolet</td>\n",
       "      <td>16,806 mi.</td>\n",
       "      <td>4.6</td>\n",
       "      <td>692</td>\n",
       "      <td>48,967</td>\n",
       "    </tr>\n",
       "    <tr>\n",
       "      <th>395</th>\n",
       "      <td>2017 Mercedes-Benz C-Class C 300</td>\n",
       "      <td>Michael's Auto Sales</td>\n",
       "      <td>47,984 mi.</td>\n",
       "      <td>4.7</td>\n",
       "      <td>704</td>\n",
       "      <td>24,495</td>\n",
       "    </tr>\n",
       "  </tbody>\n",
       "</table>\n",
       "<p>396 rows × 6 columns</p>\n",
       "</div>"
      ],
      "text/plain": [
       "                                        Name  \\\n",
       "0           2012 Mercedes-Benz E-Class E 350   \n",
       "1           2019 Mercedes-Benz C-Class C 300   \n",
       "2              2018 Mercedes-Benz AMG C 63 S   \n",
       "3     2019 Mercedes-Benz GLS 450 Base 4MATIC   \n",
       "4    2020 Mercedes-Benz S-Class S 560 4MATIC   \n",
       "..                                       ...   \n",
       "391          2020 Mercedes-Benz GLA 250 Base   \n",
       "392         2018 Mercedes-Benz C-Class C 300   \n",
       "393        2014 Mercedes-Benz M-Class ML 350   \n",
       "394   2020 Mercedes-Benz GLC 300 Base 4MATIC   \n",
       "395         2017 Mercedes-Benz C-Class C 300   \n",
       "\n",
       "                          Dealer name     Mileage Rating Rating Count  \\\n",
       "0               Best Price Car Dealer  84,277 mi.    4.3         141    \n",
       "1              Koons Kia Owings Mills  23,817 mi.    4.6         147    \n",
       "2                 Lawrence Motorsport  12,285 mi.    5.0           2    \n",
       "3                 Shift San Francisco  17,523 mi.    3.7         129    \n",
       "4        Mercedes-Benz of Catonsville  14,254 mi.    4.1         376    \n",
       "..                                ...         ...    ...          ...   \n",
       "391        AutoNation Chevrolet Doral  12,311 mi.    4.6         421    \n",
       "392           Nissan of Mission Hills  36,247 mi.    3.3          27    \n",
       "393  Mercedes-Benz of Fort Lauderdale  83,927 mi.    4.6         869    \n",
       "394        Loehmann-Blasius Chevrolet  16,806 mi.    4.6         692    \n",
       "395              Michael's Auto Sales  47,984 mi.    4.7         704    \n",
       "\n",
       "    Price in $  \n",
       "0       14,499  \n",
       "1       43,499  \n",
       "2       71,991  \n",
       "3       61,950  \n",
       "4      113,168  \n",
       "..         ...  \n",
       "391     36,992  \n",
       "392     34,121  \n",
       "393     21,992  \n",
       "394     48,967  \n",
       "395     24,495  \n",
       "\n",
       "[396 rows x 6 columns]"
      ]
     },
     "execution_count": 59,
     "metadata": {},
     "output_type": "execute_result"
    }
   ],
   "source": [
    "car_dealer_m"
   ]
  },
  {
   "cell_type": "markdown",
   "id": "02275668",
   "metadata": {},
   "source": [
    "#### Output to CSV"
   ]
  },
  {
   "cell_type": "code",
   "execution_count": 60,
   "id": "1c604a19",
   "metadata": {},
   "outputs": [],
   "source": [
    "car_dealer_m.to_csv('multiple_pages_car.csv', index=False)"
   ]
  }
 ],
 "metadata": {
  "kernelspec": {
   "display_name": "Python 3 (ipykernel)",
   "language": "python",
   "name": "python3"
  },
  "language_info": {
   "codemirror_mode": {
    "name": "ipython",
    "version": 3
   },
   "file_extension": ".py",
   "mimetype": "text/x-python",
   "name": "python",
   "nbconvert_exporter": "python",
   "pygments_lexer": "ipython3",
   "version": "3.9.9"
  }
 },
 "nbformat": 4,
 "nbformat_minor": 5
}
